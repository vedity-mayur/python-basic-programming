{
 "cells": [
  {
   "cell_type": "markdown",
   "metadata": {},
   "source": [
    "# Write a Python Program to find sum of array?\n"
   ]
  },
  {
   "cell_type": "code",
   "execution_count": 1,
   "metadata": {},
   "outputs": [
    {
     "name": "stdout",
     "output_type": "stream",
     "text": [
      "Enter no. of array elements  5\n",
      "Enter element 0 4\n",
      "Enter element 1 5\n",
      "Enter element 2 6\n",
      "Enter element 3 4\n",
      "Enter element 4 8\n",
      "Sum of array is :   27\n"
     ]
    }
   ],
   "source": [
    "length2 =int (input (\"Enter no. of array elements  \"))\n",
    "arr2=[0]*length2\n",
    "for i in range(length2):\n",
    "    arr2[i]=int(input(\"Enter element {} \".format(i)))\n",
    "sum=0\n",
    "for i in range(length2):\n",
    "    sum=sum+arr2[i]\n",
    "print(\"Sum of array is :  \",sum)"
   ]
  },
  {
   "cell_type": "markdown",
   "metadata": {},
   "source": [
    "# Write a Python Program to find largest element in an array?"
   ]
  },
  {
   "cell_type": "code",
   "execution_count": 2,
   "metadata": {},
   "outputs": [
    {
     "name": "stdout",
     "output_type": "stream",
     "text": [
      "Enter no. of array elements  4\n",
      "Enter element 0 11\n",
      "Enter element 1 1313\n",
      "Enter element 2 2626\n",
      "Enter element 3 1926\n",
      "largest element of array is :   2626\n"
     ]
    }
   ],
   "source": [
    "length =int (input (\"Enter no. of array elements  \"))\n",
    "arr=[0]*length\n",
    "for i in range(length):\n",
    "    arr[i]=int(input(\"Enter element {} \".format(i)))\n",
    "    \n",
    "\n",
    "print(\"largest element of array is :  \",max(arr))"
   ]
  },
  {
   "cell_type": "markdown",
   "metadata": {},
   "source": [
    "# Write a Python Program for array rotation?"
   ]
  },
  {
   "cell_type": "code",
   "execution_count": 3,
   "metadata": {},
   "outputs": [
    {
     "name": "stdout",
     "output_type": "stream",
     "text": [
      "Enter no. of array elements  5\n",
      "Enter element 0 1\n",
      "Enter element 1 2\n",
      "Enter element 2 3\n",
      "Enter element 3 4\n",
      "Enter element 4 5\n",
      "Enter rotation number 2\n",
      "[3, 4, 5, 1, 2]\n"
     ]
    }
   ],
   "source": [
    "def rotateArray(arr1,length1,d):\n",
    "    temp=[]\n",
    "    i=0\n",
    "    while(i<d):\n",
    "        temp.append(arr1[i])\n",
    "        i=i+1\n",
    "    j=0\n",
    "    while(d<length1):\n",
    "        arr1[j]=arr1[d]\n",
    "        j=j+1\n",
    "        d=d+1\n",
    "    arr1[:]=arr1[:j]+temp\n",
    "    return arr1       \n",
    "    \n",
    "\n",
    "length1 =int (input (\"Enter no. of array elements  \"))\n",
    "arr1=[0]*length1\n",
    "for i in range(length1):\n",
    "        arr1[i]=int(input(\"Enter element {} \".format(i)))\n",
    "d=int(input(\"Enter rotation number \"))\n",
    "print(rotateArray(arr1,length1,d))"
   ]
  },
  {
   "cell_type": "markdown",
   "metadata": {},
   "source": [
    "# Write a Python Program to Split the array and add the first part to the end?\n"
   ]
  },
  {
   "cell_type": "code",
   "execution_count": 4,
   "metadata": {},
   "outputs": [
    {
     "name": "stdout",
     "output_type": "stream",
     "text": [
      "Enter no. of array elements  6\n",
      "Enter element 0 5\n",
      "Enter element 1 4\n",
      "Enter element 2 8\n",
      "Enter element 3 9\n",
      "Enter element 4 2\n",
      "Enter element 5 1\n",
      "Enter position :  3\n",
      "[9, 2, 1, 5, 4, 8]\n"
     ]
    }
   ],
   "source": [
    "def splitArr(startArr,leng,pos):\n",
    "    temp=startArr[:pos]\n",
    "    return  (startArr[pos::]+temp[::])\n",
    "\n",
    "\n",
    "leng =int (input (\"Enter no. of array elements  \"))\n",
    "startArr=[0]*leng\n",
    "for i in range(leng):\n",
    "        startArr[i]=int(input(\"Enter element {} \".format(i)))\n",
    "pos= int (input (\"Enter position :  \"))\n",
    "finalArr=splitArr(startArr,leng,pos)\n",
    "print(finalArr)"
   ]
  },
  {
   "cell_type": "markdown",
   "metadata": {},
   "source": [
    "# Write a Python Program to check if given array is Monotonic?"
   ]
  },
  {
   "cell_type": "code",
   "execution_count": 18,
   "metadata": {},
   "outputs": [
    {
     "name": "stdout",
     "output_type": "stream",
     "text": [
      "Enter no. of array elements  5\n",
      "Enter element 0 4\n",
      "Enter element 1 5\n",
      "Enter element 2 6\n",
      "Enter element 3 7\n",
      "Enter element 4 8\n",
      "True\n"
     ]
    }
   ],
   "source": [
    "def monotonic(a,length):\n",
    "    if  all(a[i]<=a[i+1] for i in range (length-1)) or all(a[i]>=a[i+1] for i in range (length-1)) :\n",
    "        return True\n",
    "    else :\n",
    "        return False\n",
    "\n",
    "len =int (input (\"Enter no. of array elements  \"))\n",
    "inputArr=[0]*len\n",
    "for i in range(len):\n",
    "        inputArr[i]=input(\"Enter element {} \".format(i))\n",
    "print(monotonic(inputArr,length))"
   ]
  },
  {
   "cell_type": "code",
   "execution_count": null,
   "metadata": {},
   "outputs": [],
   "source": []
  }
 ],
 "metadata": {
  "kernelspec": {
   "display_name": "Python 3",
   "language": "python",
   "name": "python3"
  },
  "language_info": {
   "codemirror_mode": {
    "name": "ipython",
    "version": 3
   },
   "file_extension": ".py",
   "mimetype": "text/x-python",
   "name": "python",
   "nbconvert_exporter": "python",
   "pygments_lexer": "ipython3",
   "version": "3.7.3"
  }
 },
 "nbformat": 4,
 "nbformat_minor": 2
}
