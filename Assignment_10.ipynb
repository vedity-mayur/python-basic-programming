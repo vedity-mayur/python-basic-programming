{
 "cells": [
  {
   "cell_type": "markdown",
   "metadata": {},
   "source": [
    "# Write a Python program to find sum of elements in list?"
   ]
  },
  {
   "cell_type": "code",
   "execution_count": 1,
   "metadata": {},
   "outputs": [
    {
     "name": "stdout",
     "output_type": "stream",
     "text": [
      "50\n"
     ]
    }
   ],
   "source": [
    "lst=[5,4,6,8,9,7,5,6]\n",
    "sum=0\n",
    "for i in range(len(lst)):\n",
    "    sum=sum+lst[i]\n",
    "print(sum)"
   ]
  },
  {
   "cell_type": "markdown",
   "metadata": {},
   "source": [
    "# Write a Python program to  Multiply all numbers in the list?\n"
   ]
  },
  {
   "cell_type": "code",
   "execution_count": 4,
   "metadata": {},
   "outputs": [
    {
     "name": "stdout",
     "output_type": "stream",
     "text": [
      "120\n"
     ]
    }
   ],
   "source": [
    "lst1=[1,2,3,4,5]\n",
    "product=1\n",
    "for i in range(len(lst1)):\n",
    "    product=product*lst1[i]\n",
    "print(product)"
   ]
  },
  {
   "cell_type": "markdown",
   "metadata": {},
   "source": [
    "# Write a Python program to find smallest number in a list?\n"
   ]
  },
  {
   "cell_type": "code",
   "execution_count": 5,
   "metadata": {},
   "outputs": [
    {
     "name": "stdout",
     "output_type": "stream",
     "text": [
      "Smallest number is --- 1\n"
     ]
    }
   ],
   "source": [
    "lst2=[5,1,22,311,465]\n",
    "print(\"Smallest number is ---\",min(lst2))"
   ]
  },
  {
   "cell_type": "markdown",
   "metadata": {},
   "source": [
    "# Write a Python program to find largest number in a list?"
   ]
  },
  {
   "cell_type": "code",
   "execution_count": 7,
   "metadata": {},
   "outputs": [
    {
     "name": "stdout",
     "output_type": "stream",
     "text": [
      "Largest number is --- 465\n"
     ]
    }
   ],
   "source": [
    "lst3=[5,1,22,311,465]\n",
    "print(\"Largest number is ---\",max(lst3))"
   ]
  },
  {
   "cell_type": "markdown",
   "metadata": {},
   "source": [
    "# Write a Python program to find second largest number in a list?"
   ]
  },
  {
   "cell_type": "code",
   "execution_count": 13,
   "metadata": {},
   "outputs": [
    {
     "name": "stdout",
     "output_type": "stream",
     "text": [
      "Second Largest number is --- 311\n"
     ]
    }
   ],
   "source": [
    "lst4=[5,1,22,311,465]\n",
    "temp=lst4.copy()\n",
    "max1=max(lst4)\n",
    "temp.remove(max1)\n",
    "print(\"Second Largest number is ---\",max(temp))\n"
   ]
  },
  {
   "cell_type": "markdown",
   "metadata": {},
   "source": [
    "# Write a Python program to find N largest elements from a list?"
   ]
  },
  {
   "cell_type": "code",
   "execution_count": 18,
   "metadata": {},
   "outputs": [
    {
     "name": "stdout",
     "output_type": "stream",
     "text": [
      "Enter value of N 2\n",
      "[5589, 4448]\n"
     ]
    }
   ],
   "source": [
    "lst5=[5,1,22,311,465,666,4448,5589]\n",
    "N=int(input(\"Enter value of N \"))\n",
    "resultList=[]\n",
    "for i in range (0,N):\n",
    "    max1=0\n",
    "    for j in range (len(lst5)):\n",
    "        if lst5[j]>max1:\n",
    "            max1=lst5[j]\n",
    "    lst5.remove(max1)\n",
    "    resultList.append(max1)\n",
    "print(resultList)"
   ]
  },
  {
   "cell_type": "markdown",
   "metadata": {},
   "source": [
    "# Write a Python program to print even numbers in a list?"
   ]
  },
  {
   "cell_type": "code",
   "execution_count": 26,
   "metadata": {},
   "outputs": [
    {
     "name": "stdout",
     "output_type": "stream",
     "text": [
      "[22, 666, 4448]\n"
     ]
    }
   ],
   "source": [
    "lst6=[5,1,22,311,465,666,4448,5589]\n",
    "result=[lst6[i] for i in range(len(lst6)) if lst6[i]%2==0 ]\n",
    "print(result)"
   ]
  },
  {
   "cell_type": "markdown",
   "metadata": {},
   "source": [
    "# Write a Python program to print odd numbers in a List?"
   ]
  },
  {
   "cell_type": "code",
   "execution_count": 27,
   "metadata": {},
   "outputs": [
    {
     "name": "stdout",
     "output_type": "stream",
     "text": [
      "[5, 1, 311, 465, 5589]\n"
     ]
    }
   ],
   "source": [
    "lst7=[5,1,22,311,465,666,4448,5589]\n",
    "result=[lst7[i] for i in range(len(lst7)) if lst7[i]%2!=0 ]\n",
    "print(result)"
   ]
  },
  {
   "cell_type": "markdown",
   "metadata": {},
   "source": [
    "# Write a Python program to Remove empty List from List?"
   ]
  },
  {
   "cell_type": "code",
   "execution_count": 31,
   "metadata": {},
   "outputs": [
    {
     "name": "stdout",
     "output_type": "stream",
     "text": [
      "[[1, 2, 3], [4, 5, 6], [7, 8, 9], [22, 22, 336, 66]]\n"
     ]
    }
   ],
   "source": [
    "lst8=[[1,2,3],[],[4,5,6],[],[7,8,9],[],[22,22,336,66]]\n",
    "resultlist1=[]\n",
    "for i in range (len(lst8)):\n",
    "    if len(lst8[i])!=0:\n",
    "        resultlist1.append(lst8[i])\n",
    "print(resultlist1)"
   ]
  },
  {
   "cell_type": "markdown",
   "metadata": {},
   "source": [
    "# Write a Python program to Cloning or Copying a list?"
   ]
  },
  {
   "cell_type": "code",
   "execution_count": 32,
   "metadata": {},
   "outputs": [
    {
     "name": "stdout",
     "output_type": "stream",
     "text": [
      "[[1, 2, 3], [4, 5, 6], [7, 8, 9], [22, 22, 336, 66]]\n"
     ]
    }
   ],
   "source": [
    "lst9=[[1, 2, 3], [4, 5, 6], [7, 8, 9], [22, 22, 336, 66]]\n",
    "cloneList=[]\n",
    "for i in range (len(lst9)):\n",
    "    cloneList.append(lst9[i])\n",
    "print(cloneList)"
   ]
  },
  {
   "cell_type": "markdown",
   "metadata": {},
   "source": [
    "# Write a Python program to Count occurrences of an element in a list?"
   ]
  },
  {
   "cell_type": "code",
   "execution_count": 35,
   "metadata": {},
   "outputs": [
    {
     "name": "stdout",
     "output_type": "stream",
     "text": [
      " Enter any element 2\n",
      "Occurence of 2 is 4 times\n"
     ]
    }
   ],
   "source": [
    "lst10=[2,2,5,8,5,5,6,4,7,1,2,5,2]\n",
    "count=0\n",
    "n=int(input(\" Enter any element \"))\n",
    "for i in range (len(lst10)):\n",
    "    if lst10[i]==n:\n",
    "        count+=1\n",
    "print(\"Occurence of {} is {} times\".format(n,count))"
   ]
  },
  {
   "cell_type": "code",
   "execution_count": null,
   "metadata": {},
   "outputs": [],
   "source": []
  }
 ],
 "metadata": {
  "kernelspec": {
   "display_name": "Python 3",
   "language": "python",
   "name": "python3"
  },
  "language_info": {
   "codemirror_mode": {
    "name": "ipython",
    "version": 3
   },
   "file_extension": ".py",
   "mimetype": "text/x-python",
   "name": "python",
   "nbconvert_exporter": "python",
   "pygments_lexer": "ipython3",
   "version": "3.7.3"
  }
 },
 "nbformat": 4,
 "nbformat_minor": 2
}
