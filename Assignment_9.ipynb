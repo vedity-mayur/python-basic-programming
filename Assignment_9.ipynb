{
 "cells": [
  {
   "cell_type": "markdown",
   "metadata": {},
   "source": [
    "# Write a Python program to check if the given number is a Disarium Number?"
   ]
  },
  {
   "cell_type": "code",
   "execution_count": 1,
   "metadata": {},
   "outputs": [
    {
     "name": "stdout",
     "output_type": "stream",
     "text": [
      "Enter any number 135\n",
      "135 is Disarium Number\n"
     ]
    }
   ],
   "source": [
    "num=int(input(\"Enter any number \"))\n",
    "count_digits=len(str(num))\n",
    "temp=num\n",
    "sum=0\n",
    "while(temp!=0):\n",
    "    rem=temp%10\n",
    "    sum=sum+(rem**count_digits)\n",
    "    count_digits=count_digits-1\n",
    "    temp=temp//10\n",
    "    \n",
    "if(sum==num):\n",
    "    print(\"{} is Disarium Number\".format(num))\n",
    "else:\n",
    "    print(\"{} is not a Disarium Number\".format(num))\n",
    "    "
   ]
  },
  {
   "cell_type": "markdown",
   "metadata": {},
   "source": [
    "# Write a Python program to print all disarium numbers between 1 to 100?"
   ]
  },
  {
   "cell_type": "code",
   "execution_count": 2,
   "metadata": {},
   "outputs": [
    {
     "name": "stdout",
     "output_type": "stream",
     "text": [
      "[1, 2, 3, 4, 5, 6, 7, 8, 9, 89]\n"
     ]
    }
   ],
   "source": [
    "lst=[]\n",
    "for num in range (1,101):\n",
    "    count_digits=len(str(num))\n",
    "    temp=num\n",
    "    sum=0\n",
    "    while(temp!=0):\n",
    "        rem=temp%10\n",
    "        sum=sum+(rem**count_digits)\n",
    "        count_digits=count_digits-1\n",
    "        temp=temp//10\n",
    "    if(sum==num):\n",
    "        lst.append(num)  \n",
    "print(lst)"
   ]
  },
  {
   "cell_type": "markdown",
   "metadata": {},
   "source": [
    "# Write a Python program to check if the given number is Happy Number?"
   ]
  },
  {
   "cell_type": "code",
   "execution_count": 3,
   "metadata": {},
   "outputs": [
    {
     "name": "stdout",
     "output_type": "stream",
     "text": [
      "Enter any number 82\n",
      "82 is a happy number\n"
     ]
    }
   ],
   "source": [
    "def isHappyNumber(n):\n",
    "    rem1,sum1=0,0\n",
    "    while(n > 0):\n",
    "        rem1=n%10\n",
    "        sum1=sum1+(rem1**2)\n",
    "        n=n//10\n",
    "    return sum1\n",
    "\n",
    "\n",
    "num1=int(input(\"Enter any number \"))\n",
    "temp=num1\n",
    "while(temp!=1 and temp!=4):\n",
    "        temp=isHappyNumber(temp)\n",
    "if temp==1:\n",
    "    print(\"{} is a happy number\".format(num1))\n",
    "elif temp==4:\n",
    "    print(\"{} is not a happy number\".format(num1))"
   ]
  },
  {
   "cell_type": "markdown",
   "metadata": {},
   "source": [
    "# Write a Python program to print all happy numbers between 1 and 100?"
   ]
  },
  {
   "cell_type": "code",
   "execution_count": 8,
   "metadata": {},
   "outputs": [
    {
     "name": "stdout",
     "output_type": "stream",
     "text": [
      "[1, 7, 10, 13, 19, 23, 28, 31, 32, 44, 49, 68, 70, 79, 82, 86, 91, 94, 97, 100]\n"
     ]
    }
   ],
   "source": [
    "def isHappyNumber(n):\n",
    "    rem1,sum1=0,0\n",
    "    while(n > 0):\n",
    "        rem1=n%10\n",
    "        sum1=sum1+(rem1**2)\n",
    "        n=n//10\n",
    "    return sum1\n",
    "\n",
    "\n",
    "happyList=[]\n",
    "for i in range (1,101):\n",
    "    t=i\n",
    "    while(t!=1 and t!=4):\n",
    "        t=isHappyNumber(t)\n",
    "    if t==1:\n",
    "        happyList.append(i)\n",
    "        \n",
    "print(happyList)"
   ]
  },
  {
   "cell_type": "markdown",
   "metadata": {},
   "source": [
    "# Write a Python program to determine whether the given number is a Harshad Number?"
   ]
  },
  {
   "cell_type": "code",
   "execution_count": 17,
   "metadata": {},
   "outputs": [
    {
     "name": "stdout",
     "output_type": "stream",
     "text": [
      "Enter any number1729\n",
      "1729 is Harshad Number\n"
     ]
    }
   ],
   "source": [
    "def calculateSum(n):\n",
    "    rem1,sum1=0,0\n",
    "    while(n > 0):\n",
    "        rem1=n%10\n",
    "        sum1=sum1+rem1\n",
    "        n=n//10\n",
    "    return sum1\n",
    "\n",
    "\n",
    "number=int(input(\"Enter any number\"))\n",
    "if(number%calculateSum(number)==0):\n",
    "    print(\"{} is Harshad Number\".format(number))\n",
    "else:\n",
    "    print(\"{} is not a Harshad Number\".format(number))\n"
   ]
  },
  {
   "cell_type": "markdown",
   "metadata": {},
   "source": [
    "# Write a Python program to print all pronic numbers between 1 and 100?"
   ]
  },
  {
   "cell_type": "code",
   "execution_count": 20,
   "metadata": {},
   "outputs": [
    {
     "name": "stdout",
     "output_type": "stream",
     "text": [
      "2 6 12 20 30 42 56 72 90 "
     ]
    }
   ],
   "source": [
    "def isPronic(n):\n",
    "    for j in range (1,n+1):\n",
    "        if (j*(j+1)==n):\n",
    "            return True\n",
    "    return False\n",
    "\n",
    "for i in range (1,101):\n",
    "    if isPronic(i):\n",
    "        print(i,end=' ')"
   ]
  },
  {
   "cell_type": "code",
   "execution_count": null,
   "metadata": {},
   "outputs": [],
   "source": []
  }
 ],
 "metadata": {
  "kernelspec": {
   "display_name": "Python 3",
   "language": "python",
   "name": "python3"
  },
  "language_info": {
   "codemirror_mode": {
    "name": "ipython",
    "version": 3
   },
   "file_extension": ".py",
   "mimetype": "text/x-python",
   "name": "python",
   "nbconvert_exporter": "python",
   "pygments_lexer": "ipython3",
   "version": "3.7.3"
  }
 },
 "nbformat": 4,
 "nbformat_minor": 2
}
