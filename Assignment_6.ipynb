{
 "cells": [
  {
   "cell_type": "markdown",
   "metadata": {},
   "source": [
    "# Write a Python Program to Display Fibonacci Sequence Using Recursion?\n"
   ]
  },
  {
   "cell_type": "code",
   "execution_count": 1,
   "metadata": {},
   "outputs": [
    {
     "name": "stdout",
     "output_type": "stream",
     "text": [
      "Enter number till which you want fibonacci 6\n",
      "Fibonacci sequence is --- \n",
      "0\n",
      "1\n",
      "1\n",
      "2\n",
      "3\n",
      "5\n"
     ]
    }
   ],
   "source": [
    "def fib(num):\n",
    "    if num<=1:\n",
    "        return num\n",
    "    else:\n",
    "        return(fib(num-1)+fib(num-2))\n",
    "num=int(input(\"Enter number till which you want fibonacci \"))\n",
    "if num<=0:\n",
    "    print(\"Enter number greater than 0\")\n",
    "else :\n",
    "    print(\"Fibonacci sequence is --- \")\n",
    "    for i in range (num):\n",
    "        print(fib(i))"
   ]
  },
  {
   "cell_type": "markdown",
   "metadata": {},
   "source": [
    "# Write a Python Program to Find Factorial of Number Using Recursion?\n"
   ]
  },
  {
   "cell_type": "code",
   "execution_count": 2,
   "metadata": {},
   "outputs": [
    {
     "name": "stdout",
     "output_type": "stream",
     "text": [
      "Enter the number for factorial 4\n",
      "Factorial of 4 is 24 \n"
     ]
    }
   ],
   "source": [
    "def fact(num):\n",
    "    if num==0 or num==1:\n",
    "        return 1\n",
    "    else:\n",
    "        return (num*fact(num-1))\n",
    "\n",
    "num=int(input(\"Enter the number for factorial \"))\n",
    "print(\"Factorial of {} is {} \".format(num,fact(num)))"
   ]
  },
  {
   "cell_type": "markdown",
   "metadata": {},
   "source": [
    "# Write a Python Program to calculate your Body Mass Index?\n"
   ]
  },
  {
   "cell_type": "code",
   "execution_count": 3,
   "metadata": {},
   "outputs": [
    {
     "name": "stdout",
     "output_type": "stream",
     "text": [
      "Enter your height in inches 72\n",
      "Enter your weight in pounds lbs 154.32\n",
      "BMI is  -----  20.927268518518517\n",
      "You are normal weight\n"
     ]
    }
   ],
   "source": [
    "height=float(input(\"Enter your height in inches \"))\n",
    "weight=float(input(\"Enter your weight in pounds lbs \"))\n",
    "BMI=(weight/(height*height))*703\n",
    "print(\"BMI is  ----- \",BMI)\n",
    "if BMI < 18.5:\n",
    "    print(\"You are underweight\")\n",
    "elif BMI >18.5 and BMI < 24.9 :\n",
    "    print(\"You are normal weight\")\n",
    "elif BMI >25.0 and BMI < 29.9 :\n",
    "    print(\"You are Overweight\")\n",
    "elif BMI >30.0 and BMI < 34.9 :\n",
    "    print(\"You are Obesity class I\")\n",
    "elif BMI >35.0 and BMI < 39.9 :\n",
    "    print(\"You are Obesity class II\")"
   ]
  },
  {
   "cell_type": "markdown",
   "metadata": {},
   "source": [
    "# Write a Python Program to calculate the natural logarithm of any number?\n"
   ]
  },
  {
   "cell_type": "code",
   "execution_count": 4,
   "metadata": {},
   "outputs": [
    {
     "name": "stdout",
     "output_type": "stream",
     "text": [
      "Enter any number  5\n",
      "Natural logarithm of 5 is  1.6094379124341003 \n"
     ]
    }
   ],
   "source": [
    "import math\n",
    "num=int(input(\"Enter any number  \"))\n",
    "print(\"Natural logarithm of {} is  {} \".format(num,math.log(num)))"
   ]
  },
  {
   "cell_type": "markdown",
   "metadata": {},
   "source": [
    "# Write a Python Program for cube sum of first n natural numbers?"
   ]
  },
  {
   "cell_type": "code",
   "execution_count": 11,
   "metadata": {},
   "outputs": [
    {
     "name": "stdout",
     "output_type": "stream",
     "text": [
      "Enter value of n  6\n",
      "Cube sum of first 6 natural numbers is 441\n"
     ]
    }
   ],
   "source": [
    "n=int(input(\"Enter value of n  \"))\n",
    "sum =(((n**2)*((n+1)**2))//4)\n",
    "print(\"Cube sum of first {} natural numbers is {}\".format(n,sum))"
   ]
  },
  {
   "cell_type": "code",
   "execution_count": null,
   "metadata": {},
   "outputs": [],
   "source": []
  }
 ],
 "metadata": {
  "kernelspec": {
   "display_name": "Python 3",
   "language": "python",
   "name": "python3"
  },
  "language_info": {
   "codemirror_mode": {
    "name": "ipython",
    "version": 3
   },
   "file_extension": ".py",
   "mimetype": "text/x-python",
   "name": "python",
   "nbconvert_exporter": "python",
   "pygments_lexer": "ipython3",
   "version": "3.7.3"
  }
 },
 "nbformat": 4,
 "nbformat_minor": 2
}
