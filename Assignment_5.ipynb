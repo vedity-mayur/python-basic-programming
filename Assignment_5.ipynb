{
 "cells": [
  {
   "cell_type": "markdown",
   "metadata": {},
   "source": [
    "# Write a Python Program to Find LCM?"
   ]
  },
  {
   "cell_type": "code",
   "execution_count": 1,
   "metadata": {},
   "outputs": [
    {
     "name": "stdout",
     "output_type": "stream",
     "text": [
      "Enter number 1 24\n",
      "Enter number 2 36\n",
      "LCM of 24 and 36 is 72 \n"
     ]
    }
   ],
   "source": [
    "num1=int(input(\"Enter number 1 \"))\n",
    "num2=int(input(\"Enter number 2 \"))\n",
    "if num1>num2 :\n",
    "    greater=num1\n",
    "else:\n",
    "    greater=num2\n",
    "    \n",
    "while(True):\n",
    "    if(greater%num1==0 and greater%num2==0):\n",
    "        print(\"LCM of {} and {} is {} \".format(num1,num2,greater))\n",
    "        break\n",
    "    greater+=1"
   ]
  },
  {
   "cell_type": "markdown",
   "metadata": {},
   "source": [
    "# Write a Python Program to Find HCF?\n"
   ]
  },
  {
   "cell_type": "code",
   "execution_count": 2,
   "metadata": {},
   "outputs": [
    {
     "name": "stdout",
     "output_type": "stream",
     "text": [
      "Enter number 1 30\n",
      "Enter number 2 20\n",
      "HCF of 30 and 20 is 10 \n"
     ]
    }
   ],
   "source": [
    "num1=int(input(\"Enter number 1 \"))\n",
    "num2=int(input(\"Enter number 2 \"))\n",
    "lst=[]\n",
    "if num1<num2 :\n",
    "    smaller=num1\n",
    "else:\n",
    "    smaller=num2\n",
    "    \n",
    "for i in range (1,smaller+1):\n",
    "    if(num1%i==0 and num2%i==0):\n",
    "        lst.append(i)\n",
    "        \n",
    "print(\"HCF of {} and {} is {} \".format(num1,num2,max(lst)))\n",
    "        "
   ]
  },
  {
   "cell_type": "markdown",
   "metadata": {},
   "source": [
    "# Write a Python Program to Convert Decimal to Binary, Octal and Hexadecimal?\n"
   ]
  },
  {
   "cell_type": "code",
   "execution_count": 3,
   "metadata": {},
   "outputs": [
    {
     "name": "stdout",
     "output_type": "stream",
     "text": [
      "Enter any number 30\n",
      "30 in Binary is 0b11110\n",
      "30 in Octal is 0o36\n",
      "30 in Hexadecimal is 0x1e\n"
     ]
    }
   ],
   "source": [
    "dec=int(input(\"Enter any number \"))\n",
    "print(\"{} in Binary is {}\".format(dec,bin(dec)))\n",
    "print(\"{} in Octal is {}\".format(dec,oct(dec)))\n",
    "print(\"{} in Hexadecimal is {}\".format(dec,hex(dec)))"
   ]
  },
  {
   "cell_type": "markdown",
   "metadata": {},
   "source": [
    "# Write a Python Program To Find ASCII value of a character?\n"
   ]
  },
  {
   "cell_type": "code",
   "execution_count": 7,
   "metadata": {},
   "outputs": [
    {
     "name": "stdout",
     "output_type": "stream",
     "text": [
      "Enter any character k\n",
      "ASCII value of k is 107\n"
     ]
    }
   ],
   "source": [
    "ch=input(\"Enter any character \")\n",
    "if len(ch)==1 :\n",
    "    print(\"ASCII value of {} is {}\".format(ch,ord(ch)))\n",
    "else :\n",
    "    print(\"please enter only character\")"
   ]
  },
  {
   "cell_type": "markdown",
   "metadata": {},
   "source": [
    "# Write a Python Program to Make a Simple Calculator with 4 basic mathematical operations?"
   ]
  },
  {
   "cell_type": "code",
   "execution_count": 9,
   "metadata": {},
   "outputs": [
    {
     "name": "stdout",
     "output_type": "stream",
     "text": [
      "Enter first number 56\n",
      "Enter second number 3\n",
      "Please select your operation from 1-4 \n",
      " 1.Addition \n",
      " 2.Subtraction \n",
      " 3.Multiplication \n",
      " 4.Division\n",
      "3\n",
      "56 X 3 = 168\n"
     ]
    }
   ],
   "source": [
    "num1=int(input(\"Enter first number \"))\n",
    "num2=int(input(\"Enter second number \"))\n",
    "operation=int(input(\"Please select your operation from 1-4 \\n 1.Addition \\n 2.Subtraction \\n 3.Multiplication \\n 4.Division\\n\"))\n",
    "if operation==1:\n",
    "    print(\"{} + {} = {}\".format(num1,num2,num1+num2))\n",
    "elif operation==2:\n",
    "    print(\"{} - {} = {}\".format(num1,num2,num1-num2))\n",
    "elif operation==3:\n",
    "    print(\"{} X {} = {}\".format(num1,num2,num1*num2))\n",
    "elif operation==4:\n",
    "    print(\"{} / {} = {}\".format(num1,num2,num1//num2))\n",
    "else :\n",
    "    print(\"Please enter valid choice\")"
   ]
  },
  {
   "cell_type": "code",
   "execution_count": null,
   "metadata": {},
   "outputs": [],
   "source": []
  }
 ],
 "metadata": {
  "kernelspec": {
   "display_name": "Python 3",
   "language": "python",
   "name": "python3"
  },
  "language_info": {
   "codemirror_mode": {
    "name": "ipython",
    "version": 3
   },
   "file_extension": ".py",
   "mimetype": "text/x-python",
   "name": "python",
   "nbconvert_exporter": "python",
   "pygments_lexer": "ipython3",
   "version": "3.7.3"
  }
 },
 "nbformat": 4,
 "nbformat_minor": 2
}
