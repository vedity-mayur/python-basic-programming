{
 "cells": [
  {
   "cell_type": "markdown",
   "metadata": {},
   "source": [
    "# Write a Python Program to Find the Factorial of a Number?\n"
   ]
  },
  {
   "cell_type": "code",
   "execution_count": 1,
   "metadata": {},
   "outputs": [
    {
     "name": "stdout",
     "output_type": "stream",
     "text": [
      "Enter a number  7\n",
      "Factioral of 7 is  5040\n"
     ]
    }
   ],
   "source": [
    "num=int(input(\"Enter a number  \"))\n",
    "fact=1\n",
    "if num==0 or num==1:\n",
    "    print(\"Factioral of {} is  {}\".format(num,fact))\n",
    "else :\n",
    "    for i in range(num,1,-1):\n",
    "        fact=fact*i\n",
    "    \n",
    "    print(\"Factioral of {} is  {}\".format(num,fact))\n"
   ]
  },
  {
   "cell_type": "markdown",
   "metadata": {},
   "source": [
    "# Write a Python Program to Display the multiplication Table?\n"
   ]
  },
  {
   "cell_type": "code",
   "execution_count": 2,
   "metadata": {},
   "outputs": [
    {
     "name": "stdout",
     "output_type": "stream",
     "text": [
      "Enter a number  4\n",
      "4 * 1 = 4\n",
      "4 * 2 = 8\n",
      "4 * 3 = 12\n",
      "4 * 4 = 16\n",
      "4 * 5 = 20\n",
      "4 * 6 = 24\n",
      "4 * 7 = 28\n",
      "4 * 8 = 32\n",
      "4 * 9 = 36\n",
      "4 * 10 = 40\n"
     ]
    }
   ],
   "source": [
    "num=int(input(\"Enter a number  \"))\n",
    "for i in range(1,11):\n",
    "    print(\"{} * {} = {}\".format(num,i,num*i))"
   ]
  },
  {
   "cell_type": "markdown",
   "metadata": {},
   "source": [
    "# Write a Python Program to Print the Fibonacci sequence?\n"
   ]
  },
  {
   "cell_type": "code",
   "execution_count": 3,
   "metadata": {},
   "outputs": [
    {
     "name": "stdout",
     "output_type": "stream",
     "text": [
      "Enter length of a fibonacci 9\n",
      "[1, 1, 2, 3, 5, 8, 13, 21, 34, 55, 89, 144, 233, 377, 610, 987]\n"
     ]
    }
   ],
   "source": [
    "num=int(input(\"Enter length of a fibonacci \"))\n",
    "num1=1\n",
    "num2=1\n",
    "fibList=[1,1]\n",
    "for i in range (num+1):\n",
    "    if i>2:\n",
    "        num1=num1+num2\n",
    "        num2=num2+num1\n",
    "        fibList.append(num1)\n",
    "        fibList.append(num2)\n",
    "        \n",
    "print(fibList)"
   ]
  },
  {
   "cell_type": "markdown",
   "metadata": {},
   "source": [
    "# Write a Python Program to Check Armstrong Number"
   ]
  },
  {
   "cell_type": "code",
   "execution_count": 5,
   "metadata": {},
   "outputs": [
    {
     "name": "stdout",
     "output_type": "stream",
     "text": [
      "Enter a number 153\n",
      "153 is a armstrong number\n"
     ]
    }
   ],
   "source": [
    "num=int(input(\"Enter a number \"))\n",
    "temp=num\n",
    "sum=0\n",
    "while(num>0):\n",
    "    r=num%10\n",
    "    sum=sum+(r*r*r)\n",
    "    num=num//10\n",
    "if(temp==sum):\n",
    "    print(\"{} is a armstrong number\".format(temp))\n",
    "else:\n",
    "    print(\"{} is not an armstrong number\".format(temp))"
   ]
  },
  {
   "cell_type": "markdown",
   "metadata": {},
   "source": [
    "# Write a Python Program to Find Armstrong Number in an Interval"
   ]
  },
  {
   "cell_type": "code",
   "execution_count": 8,
   "metadata": {},
   "outputs": [
    {
     "name": "stdout",
     "output_type": "stream",
     "text": [
      "Enter lower bound of the range 1\n",
      "Enter upper bound of the range 1000\n",
      "[1, 153, 370, 371, 407]\n"
     ]
    }
   ],
   "source": [
    "lower=int(input(\"Enter lower bound of the range \"))\n",
    "upper=int(input(\"Enter upper bound of the range \"))\n",
    "armstrongList=[]\n",
    "for i in range (lower,upper):\n",
    "    temp=i\n",
    "    sum=0\n",
    "    while(i>0):\n",
    "        r=i%10\n",
    "        sum=sum+(r*r*r)\n",
    "        i=i//10\n",
    "    if(temp==sum):\n",
    "        armstrongList.append(temp)\n",
    "print(armstrongList)"
   ]
  },
  {
   "cell_type": "markdown",
   "metadata": {},
   "source": [
    "# Write a Python Program to Find the Sum of Natural Numbers"
   ]
  },
  {
   "cell_type": "code",
   "execution_count": 9,
   "metadata": {},
   "outputs": [
    {
     "name": "stdout",
     "output_type": "stream",
     "text": [
      "Enter a number 10\n",
      "Sum of 10 natural numbers is  55 \n"
     ]
    }
   ],
   "source": [
    "num=int(input(\"Enter a number \"))\n",
    "sum=(num*(num+1))//2\n",
    "print(\"Sum of {} natural numbers is  {} \".format(num,sum))\n"
   ]
  },
  {
   "cell_type": "code",
   "execution_count": null,
   "metadata": {},
   "outputs": [],
   "source": []
  }
 ],
 "metadata": {
  "kernelspec": {
   "display_name": "Python 3",
   "language": "python",
   "name": "python3"
  },
  "language_info": {
   "codemirror_mode": {
    "name": "ipython",
    "version": 3
   },
   "file_extension": ".py",
   "mimetype": "text/x-python",
   "name": "python",
   "nbconvert_exporter": "python",
   "pygments_lexer": "ipython3",
   "version": "3.7.3"
  }
 },
 "nbformat": 4,
 "nbformat_minor": 2
}
