{
 "cells": [
  {
   "cell_type": "markdown",
   "metadata": {},
   "source": [
    "# Write a Python program to find words which are greater than given length k?"
   ]
  },
  {
   "cell_type": "code",
   "execution_count": 2,
   "metadata": {},
   "outputs": [
    {
     "name": "stdout",
     "output_type": "stream",
     "text": [
      "Enter any string my name is mayur a b c d\n",
      "enter length 2\n",
      "name\n",
      "mayur\n"
     ]
    }
   ],
   "source": [
    "words=input(\"Enter any string \")\n",
    "length=int(input(\"enter length \"))\n",
    "s=words.split()\n",
    "for i in s :\n",
    "    if len(i)>length :\n",
    "        print(i)"
   ]
  },
  {
   "cell_type": "code",
   "execution_count": null,
   "metadata": {},
   "outputs": [],
   "source": [
    "# Write a Python program for removing i-th character from a string?"
   ]
  },
  {
   "cell_type": "code",
   "execution_count": 4,
   "metadata": {},
   "outputs": [
    {
     "name": "stdout",
     "output_type": "stream",
     "text": [
      "Enter any string my name is mayur\n",
      "Enter index which you want to remove2\n",
      "myname is mayur\n"
     ]
    }
   ],
   "source": [
    "string1=input(\"Enter any string \")\n",
    "index=int(input(\"Enter index which you want to remove\"))\n",
    "newString=string1[:index]+string1[index+1:]\n",
    "print(newString)"
   ]
  },
  {
   "cell_type": "code",
   "execution_count": null,
   "metadata": {},
   "outputs": [],
   "source": [
    "# Write a Python program to split and join a string?"
   ]
  },
  {
   "cell_type": "code",
   "execution_count": 12,
   "metadata": {},
   "outputs": [
    {
     "name": "stdout",
     "output_type": "stream",
     "text": [
      "Enter any string My name is mayur mohnani I am learning python\n",
      "--- Splitted string --\n",
      "['My', 'name', 'is', 'mayur', 'mohnani', 'I', 'am', 'learning', 'python']\n",
      "--- Joined string -----\n",
      "My*name*is*mayur*mohnani*I*am*learning*python\n"
     ]
    }
   ],
   "source": [
    "s=input(\"Enter any string \")\n",
    "lstString=s.split()\n",
    "print(\"--- Splitted string --\")\n",
    "print(lstString)\n",
    "joinedString='*'.join(lstString)\n",
    "print(\"--- Joined string -----\")\n",
    "print(joinedString)"
   ]
  },
  {
   "cell_type": "code",
   "execution_count": null,
   "metadata": {},
   "outputs": [],
   "source": [
    "# Write a Python to check if a given string is binary string or not?"
   ]
  },
  {
   "cell_type": "code",
   "execution_count": 11,
   "metadata": {},
   "outputs": [
    {
     "name": "stdout",
     "output_type": "stream",
     "text": [
      "Enter any string 0101111100011\n",
      "String is Binary \n"
     ]
    }
   ],
   "source": [
    "st=input(\"Enter any string \")\n",
    "ch='01'\n",
    "isBinary=True\n",
    "for i in st:\n",
    "    if i not in ch:\n",
    "        isBinary=False\n",
    "        break\n",
    "if isBinary:\n",
    "    print(\"String is Binary \")\n",
    "else:\n",
    "    print(\"String is not binary\")"
   ]
  },
  {
   "cell_type": "code",
   "execution_count": null,
   "metadata": {},
   "outputs": [],
   "source": [
    "# Write a Python program to find uncommon words from two Strings?"
   ]
  },
  {
   "cell_type": "code",
   "execution_count": 15,
   "metadata": {},
   "outputs": [
    {
     "name": "stdout",
     "output_type": "stream",
     "text": [
      "Enter string 1 My name is mayur\n",
      "Enter string 2 My surname is Mohnani\n",
      " name mayur surname Mohnani\n"
     ]
    }
   ],
   "source": [
    "Str1=input(\"Enter string 1 \")\n",
    "Str2=input(\"Enter string 2 \")\n",
    "lstStr1=Str1.split()\n",
    "lstStr2=Str2.split()\n",
    "uc=''\n",
    "for i in lstStr1:\n",
    "    if i not in lstStr2:\n",
    "        uc=uc+' '+i\n",
    "for j in lstStr2:\n",
    "    if j not in lstStr1:\n",
    "        uc=uc+' '+j\n",
    "        \n",
    "print(uc)"
   ]
  },
  {
   "cell_type": "code",
   "execution_count": null,
   "metadata": {},
   "outputs": [],
   "source": [
    "# Write a Python to find all duplicate characters in string?"
   ]
  },
  {
   "cell_type": "code",
   "execution_count": 19,
   "metadata": {},
   "outputs": [
    {
     "name": "stdout",
     "output_type": "stream",
     "text": [
      "Enter any string my name is mayur\n",
      "m 3\n",
      "y 2\n",
      "a 2\n",
      "m 3\n",
      "m 3\n",
      "a 2\n",
      "y 2\n"
     ]
    }
   ],
   "source": [
    "s7=input(\"Enter any string \")\n",
    "for i in s7:\n",
    "    counts=s7.count(i)\n",
    "    if counts>1 and i!=' ':\n",
    "        print(i,counts)\n",
    "        "
   ]
  },
  {
   "cell_type": "code",
   "execution_count": null,
   "metadata": {},
   "outputs": [],
   "source": [
    "# Write a Python Program to check if a string contains any special character?"
   ]
  },
  {
   "cell_type": "code",
   "execution_count": 13,
   "metadata": {},
   "outputs": [
    {
     "name": "stdout",
     "output_type": "stream",
     "text": [
      "Enter any string m@nn#$kkh\n",
      "@ # $ String contains Special characters\n"
     ]
    }
   ],
   "source": [
    "s1=input(\"Enter any string \")\n",
    "spc='!@#$%^&*()_+?/'\n",
    "isSpecialChar=False\n",
    "for i in s1:\n",
    "    if i in spc:\n",
    "        print(i,end=' ')\n",
    "        isSpecialChar=True\n",
    "if isSpecialChar:\n",
    "    print(\"String contains Special characters\")\n",
    "else:\n",
    "    print(\"String doesn't contain Special characters\")"
   ]
  },
  {
   "cell_type": "code",
   "execution_count": null,
   "metadata": {},
   "outputs": [],
   "source": []
  }
 ],
 "metadata": {
  "kernelspec": {
   "display_name": "Python 3",
   "language": "python",
   "name": "python3"
  },
  "language_info": {
   "codemirror_mode": {
    "name": "ipython",
    "version": 3
   },
   "file_extension": ".py",
   "mimetype": "text/x-python",
   "name": "python",
   "nbconvert_exporter": "python",
   "pygments_lexer": "ipython3",
   "version": "3.7.3"
  }
 },
 "nbformat": 4,
 "nbformat_minor": 2
}
