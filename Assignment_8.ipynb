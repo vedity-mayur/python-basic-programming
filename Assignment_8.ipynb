{
 "cells": [
  {
   "cell_type": "markdown",
   "metadata": {},
   "source": [
    "# Write a Python Program to Add Two Matrices?"
   ]
  },
  {
   "cell_type": "code",
   "execution_count": 4,
   "metadata": {},
   "outputs": [
    {
     "name": "stdout",
     "output_type": "stream",
     "text": [
      "[9, 7, 9] [8, 7, 9] [8, 13, 18] "
     ]
    }
   ],
   "source": [
    "m1=[[1,2,3],[4,5,6],[7,8,9]]\n",
    "m2=[[8,5,6],[4,2,3],[1,5,9]]\n",
    "result=[[0,0,0],[0,0,0],[0,0,0]]\n",
    "for i in range (len(m1)):\n",
    "    for j in range (len(m1[0])):\n",
    "        result[i][j]=m1[i][j]+m2[i][j]\n",
    "for k in result:\n",
    "    print(k,end=' ')"
   ]
  },
  {
   "cell_type": "markdown",
   "metadata": {},
   "source": [
    "# Write a Python Program to Multiply Two Matrices?"
   ]
  },
  {
   "cell_type": "code",
   "execution_count": 5,
   "metadata": {},
   "outputs": [
    {
     "name": "stdout",
     "output_type": "stream",
     "text": [
      "[8, 10, 18] [16, 10, 18] [7, 40, 81] "
     ]
    }
   ],
   "source": [
    "m3=[[1,2,3],[4,5,6],[7,8,9]]\n",
    "m4=[[8,5,6],[4,2,3],[1,5,9]]\n",
    "res=[[0,0,0],[0,0,0],[0,0,0]]\n",
    "for i in range (len(m3)):\n",
    "    for j in range (len(m3[0])):\n",
    "        res[i][j]=m3[i][j]*m4[i][j]\n",
    "for k in res:\n",
    "    print(k,end=' ')"
   ]
  },
  {
   "cell_type": "markdown",
   "metadata": {},
   "source": [
    "# Write a Python Program to Transpose a Matrix?"
   ]
  },
  {
   "cell_type": "code",
   "execution_count": 7,
   "metadata": {},
   "outputs": [
    {
     "name": "stdout",
     "output_type": "stream",
     "text": [
      "[1, 4, 7] [2, 5, 8] [3, 6, 9] "
     ]
    }
   ],
   "source": [
    "matrix=[[1,2,3],[4,5,6],[7,8,9]]\n",
    "t=[[0,0,0],[0,0,0],[0,0,0]]\n",
    "for i in range (len(matrix)):\n",
    "    for j in range (len(matrix[0])):\n",
    "        t[j][i]=matrix[i][j]\n",
    "for k in t:\n",
    "    print(k,end=' ')"
   ]
  },
  {
   "cell_type": "markdown",
   "metadata": {},
   "source": [
    "# Write a Python Program to Sort Words in Alphabetic Order?"
   ]
  },
  {
   "cell_type": "code",
   "execution_count": 10,
   "metadata": {},
   "outputs": [
    {
     "name": "stdout",
     "output_type": "stream",
     "text": [
      "Enter any string example of a sorting  by alphabetical name\n",
      "a alphabetical by example name of sorting "
     ]
    }
   ],
   "source": [
    "string1=input(\"Enter any string \")\n",
    "words=string1.split()\n",
    "words.sort()\n",
    "for i in words:\n",
    "    print(i,end=' ')"
   ]
  },
  {
   "cell_type": "markdown",
   "metadata": {},
   "source": [
    "# Write a Python Program to Remove Punctuation From a String?"
   ]
  },
  {
   "cell_type": "code",
   "execution_count": 11,
   "metadata": {},
   "outputs": [
    {
     "name": "stdout",
     "output_type": "stream",
     "text": [
      "Enter any string My name is @ Mayur, I like python : java * etc & test\n",
      "Initial String is ----  My name is @ Mayur, I like python : java * etc & test\n",
      "Final String after removing punctuation is --- My name is  Mayur I like python  java  etc  test\n"
     ]
    }
   ],
   "source": [
    "string2=input(\"Enter any string \")\n",
    "print(\"Initial String is ---- \",string2)\n",
    "punc='''!@#$%^&*()-_{}[]\";:/?<>.,`~'''\n",
    "\n",
    "for i in string2:\n",
    "    if i in punc:\n",
    "        string2=string2.replace(i,'')\n",
    "print(\"Final String after removing punctuation is ---\",string2)"
   ]
  },
  {
   "cell_type": "code",
   "execution_count": null,
   "metadata": {},
   "outputs": [],
   "source": []
  }
 ],
 "metadata": {
  "kernelspec": {
   "display_name": "Python 3",
   "language": "python",
   "name": "python3"
  },
  "language_info": {
   "codemirror_mode": {
    "name": "ipython",
    "version": 3
   },
   "file_extension": ".py",
   "mimetype": "text/x-python",
   "name": "python",
   "nbconvert_exporter": "python",
   "pygments_lexer": "ipython3",
   "version": "3.7.3"
  }
 },
 "nbformat": 4,
 "nbformat_minor": 2
}
